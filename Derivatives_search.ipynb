{
 "cells": [
  {
   "cell_type": "code",
   "execution_count": 1,
   "metadata": {},
   "outputs": [],
   "source": [
    "import os\n",
    "import numpy as np\n",
    "import pandas as pd\n",
    "import re"
   ]
  },
  {
   "cell_type": "code",
   "execution_count": 2,
   "metadata": {},
   "outputs": [],
   "source": [
    "df = pd.read_csv('./contracts_source_codes.csv')"
   ]
  },
  {
   "cell_type": "code",
   "execution_count": 3,
   "metadata": {},
   "outputs": [],
   "source": [
    "deriv_df = df[df.source_code.str.contains('derivativ|Derivativ')]\n",
    "instr_df = df[df.source_code.str.contains('instruments|Instruments')]"
   ]
  },
  {
   "cell_type": "code",
   "execution_count": 4,
   "metadata": {},
   "outputs": [],
   "source": [
    "deriv_df1 = df[df.code_all_no_punct.str.contains('future|Future')]\n",
    "deriv_df2 = df[df.code_all_no_punct.str.contains('forward|Forward')]\n",
    "deriv_df3 = df[df.code_all_no_punct.str.contains('option|Option')]\n",
    "deriv_df4 = df[df.code_all_no_punct.str.contains('stock|Stock')]"
   ]
  },
  {
   "cell_type": "markdown",
   "metadata": {},
   "source": [
    "0x9a60e133d8382904563a7ce9490ef53f92ff4c01\n",
    "0x9482a18ed523b1a2f097b480d38852dfff83e0b9\n",
    "0x3f8a7f9ccd72f8b81c02c4cd3cfdfa30f1be5463\n",
    "0x651aa5ea257af3d6fd08aedca8c5a446edb7b7a6"
   ]
  },
  {
   "cell_type": "code",
   "execution_count": 5,
   "metadata": {},
   "outputs": [
    {
     "name": "stdout",
     "output_type": "stream",
     "text": [
      "False\n",
      "False\n",
      "False\n",
      "False\n",
      "False\n",
      "False\n",
      "False\n",
      "False\n",
      "False\n",
      "False\n",
      "False\n",
      "False\n",
      "False\n",
      "False\n",
      "False\n",
      "False\n",
      "False\n",
      "False\n",
      "False\n",
      "False\n",
      "False\n",
      "False\n",
      "False\n",
      "False\n",
      "False\n",
      "False\n",
      "False\n",
      "False\n",
      "False\n",
      "False\n",
      "False\n",
      "False\n",
      "False\n",
      "False\n",
      "False\n",
      "False\n",
      "False\n",
      "False\n",
      "False\n",
      "False\n",
      "False\n",
      "False\n",
      "False\n",
      "False\n",
      "False\n",
      "False\n",
      "False\n",
      "False\n"
     ]
    }
   ],
   "source": [
    "for i in deriv_df.address:\n",
    "    # derivative and future\n",
    "    print(i in deriv_df1.address)\n",
    "    # derivative and forward\n",
    "    print(i in deriv_df2.address)\n",
    "    # derivative and option\n",
    "    print(i in deriv_df3.address)\n",
    "    # derivative and stock\n",
    "    print(i in deriv_df4.address)"
   ]
  }
 ],
 "metadata": {
  "kernelspec": {
   "display_name": "Python 3",
   "language": "python",
   "name": "python3"
  },
  "language_info": {
   "codemirror_mode": {
    "name": "ipython",
    "version": 3
   },
   "file_extension": ".py",
   "mimetype": "text/x-python",
   "name": "python",
   "nbconvert_exporter": "python",
   "pygments_lexer": "ipython3",
   "version": "3.6.7"
  }
 },
 "nbformat": 4,
 "nbformat_minor": 2
}
